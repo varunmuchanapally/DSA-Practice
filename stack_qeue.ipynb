{
  "nbformat": 4,
  "nbformat_minor": 0,
  "metadata": {
    "colab": {
      "provenance": []
    },
    "kernelspec": {
      "name": "python3",
      "display_name": "Python 3"
    },
    "language_info": {
      "name": "python"
    }
  },
  "cells": [
    {
      "cell_type": "code",
      "execution_count": 3,
      "metadata": {
        "id": "SfC4Zp3xohAb"
      },
      "outputs": [],
      "source": [
        "stk = []\n",
        "stk.append(5)\n",
        "stk.append(4)\n",
        "stk.append(3)"
      ]
    },
    {
      "cell_type": "code",
      "source": [
        "stk\n"
      ],
      "metadata": {
        "colab": {
          "base_uri": "https://localhost:8080/"
        },
        "id": "WxHeWiIjp-88",
        "outputId": "5e33ad89-64de-4d71-f63b-814ae21146be"
      },
      "execution_count": 4,
      "outputs": [
        {
          "output_type": "execute_result",
          "data": {
            "text/plain": [
              "[5, 4, 3]"
            ]
          },
          "metadata": {},
          "execution_count": 4
        }
      ]
    },
    {
      "cell_type": "code",
      "source": [
        "if stk:\n",
        "  print(True)\n",
        ""
      ],
      "metadata": {
        "colab": {
          "base_uri": "https://localhost:8080/"
        },
        "id": "5cq-vXLQqAZK",
        "outputId": "7f3ac578-9755-42f2-b04c-1b2b1410798f"
      },
      "execution_count": 5,
      "outputs": [
        {
          "output_type": "stream",
          "name": "stdout",
          "text": [
            "True\n"
          ]
        }
      ]
    },
    {
      "cell_type": "code",
      "source": [
        "stk.pop()"
      ],
      "metadata": {
        "colab": {
          "base_uri": "https://localhost:8080/"
        },
        "id": "0waXA6cRqFDq",
        "outputId": "666e1c94-69db-4bec-ceff-9f20b8855bdf"
      },
      "execution_count": 6,
      "outputs": [
        {
          "output_type": "execute_result",
          "data": {
            "text/plain": [
              "3"
            ]
          },
          "metadata": {},
          "execution_count": 6
        }
      ]
    },
    {
      "cell_type": "code",
      "source": [
        "stk"
      ],
      "metadata": {
        "colab": {
          "base_uri": "https://localhost:8080/"
        },
        "id": "S-4kDtWvqGj6",
        "outputId": "cef10017-733f-4ee8-ec9b-94c02cd4e34f"
      },
      "execution_count": 7,
      "outputs": [
        {
          "output_type": "execute_result",
          "data": {
            "text/plain": [
              "[5, 4]"
            ]
          },
          "metadata": {},
          "execution_count": 7
        }
      ]
    },
    {
      "cell_type": "code",
      "source": [
        "from collections import deque\n",
        "\n",
        "q=deque()\n",
        "print(q)"
      ],
      "metadata": {
        "colab": {
          "base_uri": "https://localhost:8080/"
        },
        "id": "85sl3p5mqH9q",
        "outputId": "ce6fdd67-2fc8-4753-9778-793336fc118d"
      },
      "execution_count": 16,
      "outputs": [
        {
          "output_type": "stream",
          "name": "stdout",
          "text": [
            "deque([])\n"
          ]
        }
      ]
    },
    {
      "cell_type": "code",
      "source": [
        "q.append(5)\n",
        "q.append(6)\n",
        "q.append(7)"
      ],
      "metadata": {
        "id": "Mu5aoSioqU7K"
      },
      "execution_count": 17,
      "outputs": []
    },
    {
      "cell_type": "code",
      "source": [
        "#Deqeue\n",
        "q.popleft()"
      ],
      "metadata": {
        "colab": {
          "base_uri": "https://localhost:8080/"
        },
        "id": "puY6nbxcqZwK",
        "outputId": "27d44a60-03c8-40d4-9ca2-54da028d71f6"
      },
      "execution_count": 18,
      "outputs": [
        {
          "output_type": "execute_result",
          "data": {
            "text/plain": [
              "5"
            ]
          },
          "metadata": {},
          "execution_count": 18
        }
      ]
    },
    {
      "cell_type": "code",
      "source": [
        "q"
      ],
      "metadata": {
        "colab": {
          "base_uri": "https://localhost:8080/"
        },
        "id": "L49mY771qija",
        "outputId": "7e44e819-3115-4f4c-d450-f053296a0d44"
      },
      "execution_count": 19,
      "outputs": [
        {
          "output_type": "execute_result",
          "data": {
            "text/plain": [
              "deque([6, 7])"
            ]
          },
          "metadata": {},
          "execution_count": 19
        }
      ]
    },
    {
      "cell_type": "code",
      "source": [],
      "metadata": {
        "id": "id7_y75TqjDq"
      },
      "execution_count": null,
      "outputs": []
    }
  ]
}