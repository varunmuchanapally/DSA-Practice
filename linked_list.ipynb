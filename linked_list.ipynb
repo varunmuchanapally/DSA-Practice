{
  "nbformat": 4,
  "nbformat_minor": 0,
  "metadata": {
    "colab": {
      "provenance": []
    },
    "kernelspec": {
      "name": "python3",
      "display_name": "Python 3"
    },
    "language_info": {
      "name": "python"
    }
  },
  "cells": [
    {
      "cell_type": "code",
      "execution_count": 1,
      "metadata": {
        "id": "r5QE6xQzjx7E"
      },
      "outputs": [],
      "source": [
        "class SingleNode:\n",
        "  def __init__(self, val , next = None):\n",
        "    self.val = val\n",
        "    self.next = next\n",
        "\n",
        "  def __str__(self):\n",
        "    return str(self.val)\n",
        "\n",
        ""
      ]
    },
    {
      "cell_type": "code",
      "source": [
        "Head = SingleNode(1)\n",
        "A = SingleNode(3)\n",
        "B = SingleNode(4)\n",
        "C = SingleNode(7)\n",
        "\n",
        "Head.next = A\n",
        "A.next = B\n",
        "B.next = C"
      ],
      "metadata": {
        "id": "dHRNqQrtk0fk"
      },
      "execution_count": 2,
      "outputs": []
    },
    {
      "cell_type": "code",
      "source": [
        "#Traverse the list\n",
        "curr = Head\n",
        "\n",
        "while curr:\n",
        "  print(curr)\n",
        "  curr = curr.next"
      ],
      "metadata": {
        "colab": {
          "base_uri": "https://localhost:8080/"
        },
        "id": "UwZ7iAdMlObV",
        "outputId": "468b6f30-5209-4c7f-b7d3-173e70e1e448"
      },
      "execution_count": 3,
      "outputs": [
        {
          "output_type": "stream",
          "name": "stdout",
          "text": [
            "1\n",
            "3\n",
            "4\n",
            "7\n"
          ]
        }
      ]
    },
    {
      "cell_type": "code",
      "source": [
        "# Display\n",
        "def display(head):\n",
        "  curr = head\n",
        "  elements = []\n",
        "  while curr:\n",
        "    elements.append(str(curr.val))\n",
        "    curr = curr.next\n",
        "  print('->'.join(elements))\n",
        "\n",
        "display(Head)"
      ],
      "metadata": {
        "colab": {
          "base_uri": "https://localhost:8080/"
        },
        "id": "HoK4RXmzlSTD",
        "outputId": "0e6c1723-bb6f-4a3a-fd33-82c0f4f4a277"
      },
      "execution_count": 4,
      "outputs": [
        {
          "output_type": "stream",
          "name": "stdout",
          "text": [
            "1->3->4->7\n"
          ]
        }
      ]
    },
    {
      "cell_type": "code",
      "source": [
        "def search(head, val):\n",
        "  curr = head\n",
        "  while curr:\n",
        "    if curr.val == val:\n",
        "      return True\n",
        "    curr=curr.next\n",
        "\n",
        "  return False\n",
        "\n",
        "search(Head, 7)"
      ],
      "metadata": {
        "colab": {
          "base_uri": "https://localhost:8080/"
        },
        "id": "Lllns8DFltz0",
        "outputId": "f0434cba-ad9f-46de-b080-d91cc22ebeba"
      },
      "execution_count": 5,
      "outputs": [
        {
          "output_type": "execute_result",
          "data": {
            "text/plain": [
              "True"
            ]
          },
          "metadata": {},
          "execution_count": 5
        }
      ]
    },
    {
      "cell_type": "code",
      "source": [
        "search(Head, 10)"
      ],
      "metadata": {
        "colab": {
          "base_uri": "https://localhost:8080/"
        },
        "id": "TrsSgC6XmW9F",
        "outputId": "694430b6-da41-4e8d-dfe5-ac5bc9d3828c"
      },
      "execution_count": 6,
      "outputs": [
        {
          "output_type": "execute_result",
          "data": {
            "text/plain": [
              "False"
            ]
          },
          "metadata": {},
          "execution_count": 6
        }
      ]
    },
    {
      "cell_type": "code",
      "source": [
        "# Double Linked List\n",
        "\n",
        "class DoubleNode:\n",
        "  def __init__(self, val, next=None, prev=None):\n",
        "    self.val = val\n",
        "    self.next = next\n",
        "    self.prev = prev\n",
        "\n",
        "  def __str__(self):\n",
        "    return str(self.val)\n"
      ],
      "metadata": {
        "id": "DR-ARMhpmZpE"
      },
      "execution_count": 7,
      "outputs": []
    },
    {
      "cell_type": "code",
      "source": [
        "head = tail = DoubleNode(1)\n",
        "print(head)"
      ],
      "metadata": {
        "colab": {
          "base_uri": "https://localhost:8080/"
        },
        "id": "nLVH1f9LnRWG",
        "outputId": "22f345f8-8eed-4984-ffe7-9689c9397600"
      },
      "execution_count": 8,
      "outputs": [
        {
          "output_type": "stream",
          "name": "stdout",
          "text": [
            "1\n"
          ]
        }
      ]
    },
    {
      "cell_type": "code",
      "source": [
        "def doubledisplay(head):\n",
        "  curr = head\n",
        "  elements = []\n",
        "  while curr:\n",
        "    elements.append(str(curr.val))\n",
        "    curr = curr.next\n",
        "  print('<->'.join(elements))\n",
        "\n"
      ],
      "metadata": {
        "id": "4zm5AynMxJjT"
      },
      "execution_count": 15,
      "outputs": []
    },
    {
      "cell_type": "code",
      "source": [
        "def insert_at_beginning(head, tail, val):\n",
        "    new_node = DoubleNode(val)\n",
        "    new_node.next = head\n",
        "\n",
        "    if head is not None:\n",
        "        head.prev = new_node\n",
        "    else:\n",
        "        # List was empty, new node is also the tail\n",
        "        tail = new_node\n",
        "\n",
        "    head = new_node\n",
        "    return head, tail\n",
        "\n",
        "head, tail = insert_at_beginning(head, tail, 3)\n"
      ],
      "metadata": {
        "id": "ePDUpHg7nWzl"
      },
      "execution_count": 16,
      "outputs": []
    },
    {
      "cell_type": "code",
      "source": [
        "doubledisplay(head)"
      ],
      "metadata": {
        "colab": {
          "base_uri": "https://localhost:8080/"
        },
        "id": "tU6aDaYgo0jn",
        "outputId": "6bf41fc2-d0c6-4a36-81aa-7ee784d5aa65"
      },
      "execution_count": 17,
      "outputs": [
        {
          "output_type": "stream",
          "name": "stdout",
          "text": [
            "3<->3<->3<->1<->7\n"
          ]
        }
      ]
    },
    {
      "cell_type": "code",
      "source": [
        "def insert_at_end(head, tail, val):\n",
        "  new_node =  DoubleNode(val)\n",
        "\n",
        "  if tail is not None:\n",
        "    tail.next = new_node\n",
        "    new_node.prev= tail\n",
        "  else:\n",
        "    head = new_node\n",
        "  tail = new_node\n",
        "  return head, tail\n",
        "\n",
        "head, tail = insert_at_end(head, tail, 7)\n",
        "doubledisplay(head)\n",
        "\n"
      ],
      "metadata": {
        "colab": {
          "base_uri": "https://localhost:8080/"
        },
        "id": "KBoK77Buo5VW",
        "outputId": "b1b171dd-4c18-4b03-abdd-740b68e63fa1"
      },
      "execution_count": 19,
      "outputs": [
        {
          "output_type": "stream",
          "name": "stdout",
          "text": [
            "3<->3<->3<->1<->7<->7<->7\n"
          ]
        }
      ]
    },
    {
      "cell_type": "code",
      "source": [],
      "metadata": {
        "id": "eJDWATd6uwjN"
      },
      "execution_count": 11,
      "outputs": []
    }
  ]
}