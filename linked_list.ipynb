{
  "nbformat": 4,
  "nbformat_minor": 0,
  "metadata": {
    "colab": {
      "provenance": []
    },
    "kernelspec": {
      "name": "python3",
      "display_name": "Python 3"
    },
    "language_info": {
      "name": "python"
    }
  },
  "cells": [
    {
      "cell_type": "code",
      "execution_count": 1,
      "metadata": {
        "id": "r5QE6xQzjx7E"
      },
      "outputs": [],
      "source": [
        "class SingleNode:\n",
        "  def __init__(self, val , next = None):\n",
        "    self.val = val\n",
        "    self.next = next\n",
        "\n",
        "  def __str__(self):\n",
        "    return str(self.val)\n",
        "\n",
        ""
      ]
    },
    {
      "cell_type": "code",
      "source": [
        "Head = SingleNode(1)\n",
        "A = SingleNode(3)\n",
        "B = SingleNode(4)\n",
        "C = SingleNode(7)\n",
        "\n",
        "Head.next = A\n",
        "A.next = B\n",
        "B.next = C"
      ],
      "metadata": {
        "id": "dHRNqQrtk0fk"
      },
      "execution_count": 2,
      "outputs": []
    },
    {
      "cell_type": "code",
      "source": [
        "#Traverse the list\n",
        "curr = Head\n",
        "\n",
        "while curr:\n",
        "  print(curr)\n",
        "  curr = curr.next"
      ],
      "metadata": {
        "id": "UwZ7iAdMlObV",
        "outputId": "2a1d2f90-113c-45a2-f09e-babb755bb116",
        "colab": {
          "base_uri": "https://localhost:8080/"
        }
      },
      "execution_count": 4,
      "outputs": [
        {
          "output_type": "stream",
          "name": "stdout",
          "text": [
            "1\n",
            "3\n",
            "4\n",
            "7\n"
          ]
        }
      ]
    },
    {
      "cell_type": "code",
      "source": [
        "# Display\n",
        "def display(head):\n",
        "  curr = head\n",
        "  elements = []\n",
        "  while curr:\n",
        "    elements.append(str(curr.val))\n",
        "    curr = curr.next\n",
        "  print('->'.join(elements))\n",
        "\n",
        "display(Head)"
      ],
      "metadata": {
        "id": "HoK4RXmzlSTD",
        "outputId": "cf974c3a-37e1-4b4a-a5aa-7e4e82974f23",
        "colab": {
          "base_uri": "https://localhost:8080/"
        }
      },
      "execution_count": 5,
      "outputs": [
        {
          "output_type": "stream",
          "name": "stdout",
          "text": [
            "1->3->4->7\n"
          ]
        }
      ]
    },
    {
      "cell_type": "code",
      "source": [
        "def search(head, val):\n",
        "  curr = head\n",
        "  while curr:\n",
        "    if curr.val == val:\n",
        "      return True\n",
        "    curr=curr.next\n",
        "\n",
        "  return False\n",
        "\n",
        "search(Head, 7)"
      ],
      "metadata": {
        "id": "Lllns8DFltz0",
        "outputId": "646acbeb-8cfb-4412-b9cf-a1e4957080ba",
        "colab": {
          "base_uri": "https://localhost:8080/"
        }
      },
      "execution_count": 12,
      "outputs": [
        {
          "output_type": "execute_result",
          "data": {
            "text/plain": [
              "True"
            ]
          },
          "metadata": {},
          "execution_count": 12
        }
      ]
    },
    {
      "cell_type": "code",
      "source": [
        "search(Head, 10)"
      ],
      "metadata": {
        "id": "TrsSgC6XmW9F",
        "outputId": "999280d6-4320-4b04-f335-b44322ceeb1c",
        "colab": {
          "base_uri": "https://localhost:8080/"
        }
      },
      "execution_count": 13,
      "outputs": [
        {
          "output_type": "execute_result",
          "data": {
            "text/plain": [
              "False"
            ]
          },
          "metadata": {},
          "execution_count": 13
        }
      ]
    },
    {
      "cell_type": "code",
      "source": [
        "# Double Linked List\n",
        "\n",
        "class DoubleNode:\n",
        "  def __init__(self, val, next=None, prev=None):\n",
        "    self.val = val\n",
        "    self.next = next\n",
        "    self.prev = prev\n",
        "\n",
        "  def __str__(self):\n",
        "    return str(self.val)\n"
      ],
      "metadata": {
        "id": "DR-ARMhpmZpE"
      },
      "execution_count": 18,
      "outputs": []
    },
    {
      "cell_type": "code",
      "source": [
        "head = tail = DoubleNode(1)\n",
        "print(head)"
      ],
      "metadata": {
        "id": "nLVH1f9LnRWG",
        "outputId": "6d532c83-a9a6-4a0a-a572-3b95660e3e9f",
        "colab": {
          "base_uri": "https://localhost:8080/"
        }
      },
      "execution_count": 19,
      "outputs": [
        {
          "output_type": "stream",
          "name": "stdout",
          "text": [
            "1\n"
          ]
        }
      ]
    },
    {
      "cell_type": "code",
      "source": [
        "def display(head):\n",
        "  cur = head\n",
        "  elements = []\n",
        "  while cur:\n",
        "    elements.append(str(cur.val))\n",
        "    cur = cur.next\n",
        "\n",
        "  print('<->'.join(elements))\n",
        "\n",
        "display(head)"
      ],
      "metadata": {
        "id": "ePDUpHg7nWzl",
        "outputId": "1842b4d9-fcfb-4343-d3d2-c3ec03770ae4",
        "colab": {
          "base_uri": "https://localhost:8080/"
        }
      },
      "execution_count": 23,
      "outputs": [
        {
          "output_type": "stream",
          "name": "stdout",
          "text": [
            "1\n"
          ]
        }
      ]
    },
    {
      "cell_type": "code",
      "source": [
        "def insert_at_beginning(head, tail, val):\n",
        "  new_node = DoubleNode(val)\n",
        "  new_node.next = head\n",
        "  tail.next = new_node\n",
        "  head = new_node\n",
        "  return head, tail\n",
        "\n",
        "head, tail = insert_at_beginning(head, tail, 3)\n",
        "print(head)\n",
        "print(tail)"
      ],
      "metadata": {
        "id": "Pxn492-voH6m",
        "outputId": "5b396baa-1cae-4efd-9e99-e0fc10ff04dc",
        "colab": {
          "base_uri": "https://localhost:8080/"
        }
      },
      "execution_count": 24,
      "outputs": [
        {
          "output_type": "stream",
          "name": "stdout",
          "text": [
            "3\n",
            "1\n"
          ]
        }
      ]
    },
    {
      "cell_type": "code",
      "source": [
        "display(head)"
      ],
      "metadata": {
        "id": "tU6aDaYgo0jn"
      },
      "execution_count": null,
      "outputs": []
    },
    {
      "cell_type": "code",
      "source": [],
      "metadata": {
        "id": "KBoK77Buo5VW"
      },
      "execution_count": null,
      "outputs": []
    }
  ]
}