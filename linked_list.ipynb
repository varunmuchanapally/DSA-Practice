{
  "nbformat": 4,
  "nbformat_minor": 0,
  "metadata": {
    "colab": {
      "provenance": []
    },
    "kernelspec": {
      "name": "python3",
      "display_name": "Python 3"
    },
    "language_info": {
      "name": "python"
    }
  },
  "cells": [
    {
      "cell_type": "code",
      "execution_count": 1,
      "metadata": {
        "id": "r5QE6xQzjx7E"
      },
      "outputs": [],
      "source": [
        "class SingleNode:\n",
        "  def __init__(self, val , next = None):\n",
        "    self.val = val\n",
        "    self.next = next\n",
        "\n",
        "  def __str__(self):\n",
        "    return str(self.val)\n",
        "\n",
        ""
      ]
    },
    {
      "cell_type": "code",
      "source": [
        "Head = SingleNode(1)\n",
        "A = SingleNode(3)\n",
        "B = SingleNode(4)\n",
        "C = SingleNode(7)\n",
        "\n",
        "Head.next = A\n",
        "A.next = B\n",
        "B.next = C"
      ],
      "metadata": {
        "id": "dHRNqQrtk0fk"
      },
      "execution_count": 2,
      "outputs": []
    },
    {
      "cell_type": "code",
      "source": [
        "#Traverse the list\n",
        "curr = Head\n",
        "\n",
        "while curr:\n",
        "  print(curr)\n",
        "  curr = curr.next"
      ],
      "metadata": {
        "colab": {
          "base_uri": "https://localhost:8080/"
        },
        "id": "UwZ7iAdMlObV",
        "outputId": "d9d3d2f5-ee83-4917-d648-0927bed747c9"
      },
      "execution_count": 3,
      "outputs": [
        {
          "output_type": "stream",
          "name": "stdout",
          "text": [
            "1\n",
            "3\n",
            "4\n",
            "7\n"
          ]
        }
      ]
    },
    {
      "cell_type": "code",
      "source": [
        "# Display\n",
        "def display(head):\n",
        "  curr = head\n",
        "  elements = []\n",
        "  while curr:\n",
        "    elements.append(str(curr.val))\n",
        "    curr = curr.next\n",
        "  print('->'.join(elements))\n",
        "\n",
        "display(Head)"
      ],
      "metadata": {
        "colab": {
          "base_uri": "https://localhost:8080/"
        },
        "id": "HoK4RXmzlSTD",
        "outputId": "52086b42-b8f7-4f18-ad61-c338beacf098"
      },
      "execution_count": 4,
      "outputs": [
        {
          "output_type": "stream",
          "name": "stdout",
          "text": [
            "1->3->4->7\n"
          ]
        }
      ]
    },
    {
      "cell_type": "code",
      "source": [
        "def search(head, val):\n",
        "  curr = head\n",
        "  while curr:\n",
        "    if curr.val == val:\n",
        "      return True\n",
        "    curr=curr.next\n",
        "\n",
        "  return False\n",
        "\n",
        "search(Head, 7)"
      ],
      "metadata": {
        "colab": {
          "base_uri": "https://localhost:8080/"
        },
        "id": "Lllns8DFltz0",
        "outputId": "3bcdd17d-ccb2-46a0-8238-f3407fa2d75f"
      },
      "execution_count": 5,
      "outputs": [
        {
          "output_type": "execute_result",
          "data": {
            "text/plain": [
              "True"
            ]
          },
          "metadata": {},
          "execution_count": 5
        }
      ]
    },
    {
      "cell_type": "code",
      "source": [
        "search(Head, 10)"
      ],
      "metadata": {
        "colab": {
          "base_uri": "https://localhost:8080/"
        },
        "id": "TrsSgC6XmW9F",
        "outputId": "5d5b9e8c-b611-4979-cf72-583494fc6c4d"
      },
      "execution_count": 6,
      "outputs": [
        {
          "output_type": "execute_result",
          "data": {
            "text/plain": [
              "False"
            ]
          },
          "metadata": {},
          "execution_count": 6
        }
      ]
    },
    {
      "cell_type": "code",
      "source": [
        "# Double Linked List\n",
        "\n",
        "class DoubleNode:\n",
        "  def __init__(self, val, next=None, prev=None):\n",
        "    self.val = val\n",
        "    self.next = next\n",
        "    self.prev = prev\n",
        "\n",
        "  def __str__(self):\n",
        "    return str(self.val)\n"
      ],
      "metadata": {
        "id": "DR-ARMhpmZpE"
      },
      "execution_count": 2,
      "outputs": []
    },
    {
      "cell_type": "code",
      "source": [
        "head = tail = DoubleNode(1)\n",
        "print(head)"
      ],
      "metadata": {
        "colab": {
          "base_uri": "https://localhost:8080/"
        },
        "id": "nLVH1f9LnRWG",
        "outputId": "07a5802e-92a7-4520-ed46-3280e3bd676b"
      },
      "execution_count": 3,
      "outputs": [
        {
          "output_type": "stream",
          "name": "stdout",
          "text": [
            "1\n"
          ]
        }
      ]
    },
    {
      "cell_type": "code",
      "source": [
        "def insert_at_beginning(head, tail, val):\n",
        "    new_node = DoubleNode(val)\n",
        "    new_node.next = head\n",
        "\n",
        "    if head is not None:\n",
        "        head.prev = new_node\n",
        "    else:\n",
        "        # List was empty, new node is also the tail\n",
        "        tail = new_node\n",
        "\n",
        "    head = new_node\n",
        "    return head, tail\n",
        "\n",
        "head, tail = insert_at_beginning(head, tail, 3)\n"
      ],
      "metadata": {
        "id": "ePDUpHg7nWzl"
      },
      "execution_count": 13,
      "outputs": []
    },
    {
      "cell_type": "code",
      "source": [
        "display(head)"
      ],
      "metadata": {
        "colab": {
          "base_uri": "https://localhost:8080/"
        },
        "id": "tU6aDaYgo0jn",
        "outputId": "7db2cc91-11bb-4a5d-aaf9-0dc81ceacf66"
      },
      "execution_count": 14,
      "outputs": [
        {
          "output_type": "stream",
          "name": "stdout",
          "text": [
            "3<->1\n"
          ]
        }
      ]
    },
    {
      "cell_type": "code",
      "source": [
        "def insert_at_end(head, tail, val):\n",
        "  new_node =  DoubleNode(val)\n",
        "\n",
        "  if tail is not None:\n",
        "    tail.next = new_node\n",
        "    new_node.prev= tail\n",
        "  else:\n",
        "    head = new_node\n",
        "  tail = new_node\n",
        "  return head, tail\n",
        "\n",
        "head, tail = insert_at_end(head, tail, 7)\n",
        "display(head)\n",
        "\n"
      ],
      "metadata": {
        "colab": {
          "base_uri": "https://localhost:8080/",
          "height": 211
        },
        "id": "KBoK77Buo5VW",
        "outputId": "9d287606-a128-4540-863f-a6f8cb211016"
      },
      "execution_count": 5,
      "outputs": [
        {
          "output_type": "error",
          "ename": "NameError",
          "evalue": "name 'head' is not defined",
          "traceback": [
            "\u001b[0;31m---------------------------------------------------------------------------\u001b[0m",
            "\u001b[0;31mNameError\u001b[0m                                 Traceback (most recent call last)",
            "\u001b[0;32m/tmp/ipython-input-475619887.py\u001b[0m in \u001b[0;36m<cell line: 0>\u001b[0;34m()\u001b[0m\n\u001b[1;32m     10\u001b[0m   \u001b[0;32mreturn\u001b[0m \u001b[0mhead\u001b[0m\u001b[0;34m,\u001b[0m \u001b[0mtail\u001b[0m\u001b[0;34m\u001b[0m\u001b[0;34m\u001b[0m\u001b[0m\n\u001b[1;32m     11\u001b[0m \u001b[0;34m\u001b[0m\u001b[0m\n\u001b[0;32m---> 12\u001b[0;31m \u001b[0mhead\u001b[0m\u001b[0;34m,\u001b[0m \u001b[0mtail\u001b[0m \u001b[0;34m=\u001b[0m \u001b[0minsert_at_end\u001b[0m\u001b[0;34m(\u001b[0m\u001b[0mhead\u001b[0m\u001b[0;34m,\u001b[0m \u001b[0mtail\u001b[0m\u001b[0;34m,\u001b[0m \u001b[0;36m7\u001b[0m\u001b[0;34m)\u001b[0m\u001b[0;34m\u001b[0m\u001b[0;34m\u001b[0m\u001b[0m\n\u001b[0m\u001b[1;32m     13\u001b[0m \u001b[0mdisplay\u001b[0m\u001b[0;34m(\u001b[0m\u001b[0mhead\u001b[0m\u001b[0;34m)\u001b[0m\u001b[0;34m\u001b[0m\u001b[0;34m\u001b[0m\u001b[0m\n\u001b[1;32m     14\u001b[0m \u001b[0;34m\u001b[0m\u001b[0m\n",
            "\u001b[0;31mNameError\u001b[0m: name 'head' is not defined"
          ]
        }
      ]
    },
    {
      "cell_type": "code",
      "source": [],
      "metadata": {
        "id": "eJDWATd6uwjN"
      },
      "execution_count": null,
      "outputs": []
    }
  ]
}