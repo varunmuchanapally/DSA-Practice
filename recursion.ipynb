{
  "nbformat": 4,
  "nbformat_minor": 0,
  "metadata": {
    "colab": {
      "provenance": []
    },
    "kernelspec": {
      "name": "python3",
      "display_name": "Python 3"
    },
    "language_info": {
      "name": "python"
    }
  },
  "cells": [
    {
      "cell_type": "code",
      "execution_count": 1,
      "metadata": {
        "id": "B4JQDy3OrdbF"
      },
      "outputs": [],
      "source": [
        "def fibonacci(n):\n",
        "  if n==0:\n",
        "    return 0\n",
        "  if n==1:\n",
        "    return 1\n",
        "  return fibonacci(n-1)+fibonacci(n-2)"
      ]
    },
    {
      "cell_type": "code",
      "source": [
        "print(fibonacci(10))"
      ],
      "metadata": {
        "colab": {
          "base_uri": "https://localhost:8080/"
        },
        "id": "v8yGF5odtLeR",
        "outputId": "2f6b06cd-ee59-4876-f148-5897f5c5d5f6"
      },
      "execution_count": 2,
      "outputs": [
        {
          "output_type": "stream",
          "name": "stdout",
          "text": [
            "55\n"
          ]
        }
      ]
    },
    {
      "cell_type": "code",
      "source": [
        "n=10\n",
        "ans = []\n",
        "for i in range(1, n+1):\n",
        "  ans.append(fibonacci(i))"
      ],
      "metadata": {
        "id": "6A9wQ_UbtTMf"
      },
      "execution_count": 3,
      "outputs": []
    },
    {
      "cell_type": "code",
      "source": [
        "ans"
      ],
      "metadata": {
        "colab": {
          "base_uri": "https://localhost:8080/"
        },
        "id": "Fwa3QBZAt71C",
        "outputId": "bacadcc1-89a0-42e5-ddae-26f547610f24"
      },
      "execution_count": 4,
      "outputs": [
        {
          "output_type": "execute_result",
          "data": {
            "text/plain": [
              "[1, 1, 2, 3, 5, 8, 13, 21, 34, 55]"
            ]
          },
          "metadata": {},
          "execution_count": 4
        }
      ]
    },
    {
      "cell_type": "code",
      "source": [
        "class SingleNode:\n",
        "  def __init__(self, val, prev=None, next=None):\n",
        "    self.val = val\n",
        "    self.next = next\n",
        "    self.prev = prev\n",
        "\n",
        "  def __str__(self):\n",
        "    return str(self.val)"
      ],
      "metadata": {
        "id": "krVbp0cht8RQ"
      },
      "execution_count": 5,
      "outputs": []
    },
    {
      "cell_type": "code",
      "source": [
        "head = SingleNode(1)\n",
        "A = SingleNode(2)\n",
        "B = SingleNode(3)\n",
        "C = SingleNode(4)\n",
        "\n",
        "head.next = A\n",
        "A.next = B\n",
        "B.next = C"
      ],
      "metadata": {
        "id": "U5tEA9F8uYjT"
      },
      "execution_count": 6,
      "outputs": []
    },
    {
      "cell_type": "code",
      "source": [
        "curr = head\n",
        "while curr.next:\n",
        "  print(str(curr)+\"->\", end=\"\")\n",
        "  curr = curr.next\n",
        "print(str(curr))\n"
      ],
      "metadata": {
        "colab": {
          "base_uri": "https://localhost:8080/"
        },
        "id": "i2uauTCiuswD",
        "outputId": "07947c2a-1b5c-4de0-b1af-1a5c28fca73c"
      },
      "execution_count": 7,
      "outputs": [
        {
          "output_type": "stream",
          "name": "stdout",
          "text": [
            "1->2->3->4\n"
          ]
        }
      ]
    },
    {
      "cell_type": "code",
      "source": [],
      "metadata": {
        "id": "mZjlRu59vTD0"
      },
      "execution_count": 7,
      "outputs": []
    }
  ]
}