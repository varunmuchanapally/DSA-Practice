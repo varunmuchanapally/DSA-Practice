{
  "nbformat": 4,
  "nbformat_minor": 0,
  "metadata": {
    "colab": {
      "provenance": []
    },
    "kernelspec": {
      "name": "python3",
      "display_name": "Python 3"
    },
    "language_info": {
      "name": "python"
    }
  },
  "cells": [
    {
      "cell_type": "code",
      "execution_count": 24,
      "metadata": {
        "id": "B4JQDy3OrdbF"
      },
      "outputs": [],
      "source": [
        "def fibonacci(n):\n",
        "  if n==0:\n",
        "    return 0\n",
        "  if n==1:\n",
        "    return 1\n",
        "  return fibonacci(n-1)+fibonacci(n-2)"
      ]
    },
    {
      "cell_type": "code",
      "source": [
        "print(fibonacci(10))"
      ],
      "metadata": {
        "colab": {
          "base_uri": "https://localhost:8080/"
        },
        "id": "v8yGF5odtLeR",
        "outputId": "ab869c1b-6750-4ade-a7a8-78b564248ed9"
      },
      "execution_count": 25,
      "outputs": [
        {
          "output_type": "stream",
          "name": "stdout",
          "text": [
            "55\n"
          ]
        }
      ]
    },
    {
      "cell_type": "code",
      "source": [
        "n=10\n",
        "ans = []\n",
        "for i in range(1, n+1):\n",
        "  ans.append(fibonacci(i))"
      ],
      "metadata": {
        "id": "6A9wQ_UbtTMf"
      },
      "execution_count": 26,
      "outputs": []
    },
    {
      "cell_type": "code",
      "source": [
        "ans"
      ],
      "metadata": {
        "colab": {
          "base_uri": "https://localhost:8080/"
        },
        "id": "Fwa3QBZAt71C",
        "outputId": "e32bcaad-65c2-4a80-8456-d069389af759"
      },
      "execution_count": 27,
      "outputs": [
        {
          "output_type": "execute_result",
          "data": {
            "text/plain": [
              "[1, 1, 2, 3, 5, 8, 13, 21, 34, 55]"
            ]
          },
          "metadata": {},
          "execution_count": 27
        }
      ]
    },
    {
      "cell_type": "code",
      "source": [
        "class SingleNode:\n",
        "  def __init__(self, val, prev=None, next=None):\n",
        "    self.val = val\n",
        "    self.next = next\n",
        "    self.prev = prev\n",
        "\n",
        "  def __str__(self):\n",
        "    return str(self.val)"
      ],
      "metadata": {
        "id": "krVbp0cht8RQ"
      },
      "execution_count": 28,
      "outputs": []
    },
    {
      "cell_type": "code",
      "source": [
        "head = SingleNode(1)\n",
        "A = SingleNode(2)\n",
        "B = SingleNode(3)\n",
        "C = SingleNode(4)\n",
        "\n",
        "head.next = A\n",
        "A.next = B\n",
        "B.next = C"
      ],
      "metadata": {
        "id": "U5tEA9F8uYjT"
      },
      "execution_count": 29,
      "outputs": []
    },
    {
      "cell_type": "code",
      "source": [
        "curr = head\n",
        "while curr.next:\n",
        "  print(str(curr)+\"->\", end=\"\")\n",
        "  curr = curr.next\n",
        "print(str(curr))\n"
      ],
      "metadata": {
        "colab": {
          "base_uri": "https://localhost:8080/"
        },
        "id": "i2uauTCiuswD",
        "outputId": "eac721f0-53bc-4034-c770-a5a555e7bec8"
      },
      "execution_count": 30,
      "outputs": [
        {
          "output_type": "stream",
          "name": "stdout",
          "text": [
            "1->2->3->4\n"
          ]
        }
      ]
    },
    {
      "cell_type": "code",
      "source": [
        "def forward(node):\n",
        "  if not node:\n",
        "    return\n",
        "\n",
        "  print(str(node), end=\" \")\n",
        "  forward(node.next)\n",
        "\n",
        "forward(head)"
      ],
      "metadata": {
        "id": "mZjlRu59vTD0",
        "outputId": "be19467c-de6c-41a8-c5ef-a0dca5b9b9db",
        "colab": {
          "base_uri": "https://localhost:8080/"
        }
      },
      "execution_count": 32,
      "outputs": [
        {
          "output_type": "stream",
          "name": "stdout",
          "text": [
            "1 2 3 4 "
          ]
        }
      ]
    },
    {
      "cell_type": "code",
      "source": [
        "def reverse(node):\n",
        "  if not node:\n",
        "    return\n",
        "  reverse(node.next)\n",
        "  print(str(node), end=\" \")"
      ],
      "metadata": {
        "id": "VEXwmxDO0iwd"
      },
      "execution_count": 39,
      "outputs": []
    },
    {
      "cell_type": "code",
      "source": [
        "reverse(head)"
      ],
      "metadata": {
        "id": "Fi2L3hF106MN",
        "outputId": "f96e6c84-d63e-4535-f752-b39ad682d285",
        "colab": {
          "base_uri": "https://localhost:8080/"
        }
      },
      "execution_count": 40,
      "outputs": [
        {
          "output_type": "stream",
          "name": "stdout",
          "text": [
            "4 3 2 1 "
          ]
        }
      ]
    },
    {
      "cell_type": "code",
      "source": [],
      "metadata": {
        "id": "xUK14Day07kt"
      },
      "execution_count": null,
      "outputs": []
    }
  ]
}